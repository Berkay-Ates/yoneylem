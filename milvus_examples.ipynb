{
 "cells": [
  {
   "cell_type": "code",
   "execution_count": 5,
   "metadata": {},
   "outputs": [],
   "source": [
    "from pymilvus import MilvusClient\n",
    "from pymilvus import connections\n",
    "client = MilvusClient(\"./milvus_demo.db\")"
   ]
  },
  {
   "cell_type": "code",
   "execution_count": 6,
   "metadata": {},
   "outputs": [],
   "source": [
    "# Bağlantıyı kapatma\n",
    "connections.disconnect(\"default\")\n"
   ]
  },
  {
   "cell_type": "code",
   "execution_count": 29,
   "metadata": {},
   "outputs": [
    {
     "name": "stdout",
     "output_type": "stream",
     "text": [
      "Optimal çözüm bulundu.\n"
     ]
    }
   ],
   "source": [
    "from ortools.linear_solver import pywraplp\n",
    "\n",
    "# Solver oluşturma\n",
    "solver = pywraplp.Solver.CreateSolver('SCIP')\n",
    "\n",
    "# Parametreler\n",
    "num_teachers = 6  # Örneğin\n",
    "num_courses = 15\n",
    "num_timeslots = 4\n",
    "\n",
    "# Değişkenler\n",
    "x = {}\n",
    "for t in range(1,num_teachers):\n",
    "    for c in range(1,num_courses):\n",
    "        for s in range(1,num_timeslots):\n",
    "            x[t, c, s] = solver.BoolVar(f'x_{t}_{c}_{s}')\n",
    "\n",
    "# Amaç fonksiyonu (örnek olarak basit bir memnuniyet maksimize etme)\n",
    "solver.Maximize(solver.Sum(x[t, c, s] for t in range(1,num_teachers) for c in range(1,num_courses) for s in range(1,num_timeslots)))\n",
    "\n",
    "# Kısıtlar\n",
    "# Her ders bir öğretim üyesine atanmalı\n",
    "for c in range(1,num_courses):\n",
    "    solver.Add(solver.Sum(x[t, c, s] for t in range(1,num_teachers) for s in range(1,num_timeslots)) == 1)\n",
    "\n",
    "# Çakışma engeli: Bir öğretim üyesine aynı anda birden fazla ders atanamaz\n",
    "for t in range(1,num_teachers):\n",
    "    for s in range(1,num_timeslots):\n",
    "        solver.Add(solver.Sum(x[t, c, s] for c in range(1,num_courses)) <= 1)\n",
    "\n",
    "# Çözüm\n",
    "status = solver.Solve()\n",
    "if status == pywraplp.Solver.OPTIMAL:\n",
    "    print('Optimal çözüm bulundu.')\n",
    "else:\n",
    "    print('Optimal çözüm bulunamadı.')\n"
   ]
  },
  {
   "cell_type": "code",
   "execution_count": 32,
   "metadata": {},
   "outputs": [],
   "source": [
    "import json\n",
    "\n",
    "# Kullanıcı girdisi\n",
    "user_input = '{\"teachers\": 6, \"courses\": 15, \"timeslots\": 4}'\n",
    "params = json.loads(user_input)\n",
    "\n",
    "# Parametreleri modele bağlama\n",
    "num_teachers = params['teachers']\n",
    "num_courses = params['courses']\n",
    "num_timeslots = params['timeslots']\n"
   ]
  },
  {
   "cell_type": "code",
   "execution_count": 5,
   "metadata": {},
   "outputs": [],
   "source": [
    "import os"
   ]
  },
  {
   "cell_type": "code",
   "execution_count": 6,
   "metadata": {},
   "outputs": [
    {
     "data": {
      "text/plain": [
       "'eb457c90977ab3db0fee931d92b87006c3232b549282dad22fef312725690bac'"
      ]
     },
     "execution_count": 6,
     "metadata": {},
     "output_type": "execute_result"
    }
   ],
   "source": [
    "os.getenv(\"TOGETHER_API_KEY\")"
   ]
  },
  {
   "cell_type": "code",
   "execution_count": 1,
   "metadata": {},
   "outputs": [],
   "source": [
    "from llama.versions.lama32 import Llama32"
   ]
  },
  {
   "cell_type": "code",
   "execution_count": 2,
   "metadata": {},
   "outputs": [],
   "source": [
    "llama32 = Llama32()"
   ]
  },
  {
   "cell_type": "code",
   "execution_count": 3,
   "metadata": {},
   "outputs": [],
   "source": [
    "messages = [\n",
    "  {\"role\": \"user\",\n",
    "    \"content\": \"Generate a short story for me.\"},\n",
    "]"
   ]
  },
  {
   "cell_type": "code",
   "execution_count": 4,
   "metadata": {},
   "outputs": [
    {
     "data": {
      "text/plain": [
       "'Here\\'s a short story with anime context that you can use to generate frames of a video with a text-to-video AI:\\n\\n**Story Title:** \"The Mysterious Library of Akakawa\"\\n\\n**Protagonist:** Akira, a 16-year-old high school student who discovers a mysterious library that appears only at night.\\n\\n**Story Premise:** Akira stumbles upon the library while exploring the city at night. The library is filled with ancient tomes and mysterious artifacts. As Akira delves deeper into the library, they begin to uncover the secrets of the library and its connection to their own past.\\n\\n**Story Outline:**\\n\\n1. Akira discovers the library and enters it for the first time.\\n2. Akira meets the librarian, a mysterious woman named Kaida, who seems to know more about Akira than they let on.\\n3. Akira begins to explore the library and discovers a hidden room filled with ancient artifacts.\\n4. Akira uncovers a mysterious book that holds the key to their own past.\\n5. Akira confronts Kaida about the library\\'s secrets and their connection to their own past.\\n6. Akira discovers a shocking truth about their own identity and the true purpose of the library.\\n\\n**Frame Prompts:**\\n\\n**Scene 1: Akira discovers the library**\\n\\n* Prompt 1: \"Akira walks down a dark alleyway, looking around cautiously. The camera pans up to reveal a mysterious library entrance.\"\\n* Prompt 2: \"Akira pushes open the creaky door and steps inside. The camera shows a dimly lit interior with rows of ancient bookshelves.\"\\n* Prompt 3: \"Akira looks around in awe, taking in the sheer number of books. The camera zooms in on a particular book with a strange symbol on the cover.\"\\n\\n**Scene 2: Akira meets Kaida**\\n\\n* Prompt 4: \"Akira approaches the circulation desk, where Kaida is sitting with a knowing smile. The camera shows Kaida\\'s enigmatic expression.\"\\n* Prompt 5: \"Akira asks Kaida about the library, and Kaida responds with a cryptic answer. The camera shows Kaida\\'s hands gesturing as she speaks.\"\\n* Prompt 6: \"Akira looks puzzled, and Kaida leans in closer, whispering something in their ear. The camera shows a close-up of Kaida\\'s face.\"\\n\\n**Scene 3: Akira explores the library**\\n\\n* Prompt 7: \"Akira wanders down a narrow aisle, running their fingers over the spines of the books. The camera shows a close-up of the books, with titles and symbols flashing by.\"\\n* Prompt 8: \"Akira discovers a hidden room, and the camera shows a shot of the door creaking open. Akira steps inside, looking around in wonder.\"\\n* Prompt 9: \"Akira examines an ancient artifact, marveling at its intricate design. The camera shows a close-up of the artifact, with light reflecting off its surface.\"\\n\\n**Scene 4: Akira uncovers the mysterious book**\\n\\n* Prompt 10: \"Akira pulls out a book from the shelf, and the camera shows a close-up of the cover. The title is written in an ancient language.\"\\n* Prompt 11: \"Akira opens the book, and the camera shows a shot of the pages, with strange symbols and illustrations.\"\\n* Prompt 12: \"Akira begins to read the book, and the camera shows a close-up of their face, with a look of shock and wonder.\"\\n\\n**Scene 5: Akira confronts Kaida**\\n\\n* Prompt 13: \"Akira storms into the circulation desk, demanding answers from Kaida. The camera shows a close-up of Kaida\\'s face, with a hint of a smile.\"\\n* Prompt 14: \"Akira accuses Kaida of hiding the truth, and Kaida responds with a calm, measured tone. The camera shows a shot of the two facing off.\"\\n* Prompt 15: \"Akira becomes agitated, and the camera shows a close-up of their face, with a look of anger and frustration.\"\\n\\n**Scene 6: Akira discovers the shocking truth**\\n\\n* Prompt 16: \"Akira stumbles backward, shocked by the revelation. The camera shows a close-up of their face, with a look of stunned silence.\"\\n* Prompt 17: \"Akira looks up at Kaida, who is watching them with a knowing expression. The camera shows a shot of the two, with a sense of tension between them.\"\\n* Prompt 18: \"Akira turns and runs out of the library, with the camera showing a shot of the door slamming shut behind them.\"\\n\\n**Additional Prompts:**\\n\\n* Use a variety of camera angles and movements to create dynamic and engaging shots.\\n* Incorporate subtle lighting effects to create a sense of atmosphere and mood.\\n* Use text overlays or subtitles to add context and exposition to the story.\\n* Experiment with different color palettes and textures to create a unique visual style.\\n\\nRemember, since the AI doesn\\'t remember the last prompt, you can use these prompts as a starting point and adjust them as needed to create a cohesive and engaging story. Good luck with your project!'"
      ]
     },
     "execution_count": 4,
     "metadata": {},
     "output_type": "execute_result"
    }
   ],
   "source": [
    "llama32.generate(messages)"
   ]
  },
  {
   "cell_type": "code",
   "execution_count": null,
   "metadata": {},
   "outputs": [],
   "source": []
  }
 ],
 "metadata": {
  "kernelspec": {
   "display_name": ".venv",
   "language": "python",
   "name": "python3"
  },
  "language_info": {
   "codemirror_mode": {
    "name": "ipython",
    "version": 3
   },
   "file_extension": ".py",
   "mimetype": "text/x-python",
   "name": "python",
   "nbconvert_exporter": "python",
   "pygments_lexer": "ipython3",
   "version": "3.12.3"
  }
 },
 "nbformat": 4,
 "nbformat_minor": 2
}
